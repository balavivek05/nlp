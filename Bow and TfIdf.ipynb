{
 "cells": [
  {
   "cell_type": "code",
   "execution_count": 1,
   "metadata": {},
   "outputs": [],
   "source": [
    "import nltk"
   ]
  },
  {
   "cell_type": "code",
   "execution_count": 26,
   "metadata": {},
   "outputs": [],
   "source": [
    "para=\"\"\"It is indeed rare for the world to witness a leader that is intelligent, wise, selfless and loved by all. Avul Pakir Jainulabdeen Abdul Kalam was one such leader. Furthermore, he was a man who has a very strong appeal among the masses. Moreover, his political stature is way above the discriminatory lines of caste and religion.APJ Abdul kalam came into this world on 15th October 1931, at a time when India was under British occupation. He was born to a Tamil Muslim family in Tamil Nadu. His father was a boat owner while his mother was a housewife. Furthermore, Kalam had five siblings and was the youngest of the lot.\n",
    "In school, Kalam was an average student but was still hardworking and bright. I think this certainly is a great motivation for all the average students out there. Being average, you must never ever underestimate yourself and continue doing the hard work.In the year 1960, APJ Abdul Kalam’s graduation took place from Madras Institute of Technology. The association of Kalam took place with the Defence Research & Development Service (DRDS). Furthermore, he joined as a scientist at the Aeronautical Development Establishment of the Defence Research and Development Organisation. These were the beginning achievements of his prestigious career as a scientist.\n",
    "Big achievement for Kalam came when he was the project director at ISRO of India‘s first-ever Satellite Launch Vehicle (SLV- III). This satellite was responsible for the deployment of the Rohini satellite in 1980. Moreover, Kalam was highly influential in the development of Polar Satellite Launch Vehicle (PSLV) and SLV projects.Both projects were successful. Bringing enhancement in the reputation of Kalam. Furthermore, the development of ballistic missiles was possible because of the efforts of this man. Most noteworthy, Kalam earned the esteemed title of “The missile Man of India”.The Government of India became aware of the brilliance of this man and made him the Chief Executive of the Integrated Guided Missiles Development Program (IGMDP). Furthermore, this program was responsible for the research and development of Missiles. The achievements of this distinguished man didn’t stop there.\n",
    "More success was to come in the form of Agni and Prithvi missiles. Once again, Kalam was influential in the developments of these missiles. It was during his tenure in IGMDP that Kalam played an instrumental role in the developments of missiles like Agni and Prithvi. Moreover, Kamal was a key figure in the Pokhran II nuclear test.\"\"\""
   ]
  },
  {
   "cell_type": "code",
   "execution_count": 3,
   "metadata": {},
   "outputs": [],
   "source": [
    "sentences=nltk.sent_tokenize(para)"
   ]
  },
  {
   "cell_type": "code",
   "execution_count": 7,
   "metadata": {},
   "outputs": [],
   "source": [
    "words=nltk.word_tokenize(para)"
   ]
  },
  {
   "cell_type": "markdown",
   "metadata": {},
   "source": [
    "Stemming"
   ]
  },
  {
   "cell_type": "code",
   "execution_count": 12,
   "metadata": {},
   "outputs": [],
   "source": [
    "from nltk.stem import PorterStemmer\n",
    "from nltk.corpus import stopwords"
   ]
  },
  {
   "cell_type": "code",
   "execution_count": 13,
   "metadata": {},
   "outputs": [],
   "source": [
    "stemmer=PorterStemmer()\n",
    "sentences=nltk.sent_tokenize(para)"
   ]
  },
  {
   "cell_type": "code",
   "execution_count": 16,
   "metadata": {},
   "outputs": [],
   "source": [
    "for i in range(len(sentences)):\n",
    "    words = nltk.word_tokenize(sentences[i])\n",
    "    words = [stemmer.stem(word)for word in words if word not in set(stopwords.words('english'))]\n",
    "    sentences[i]=''.join(words)"
   ]
  },
  {
   "cell_type": "code",
   "execution_count": 17,
   "metadata": {},
   "outputs": [
    {
     "data": {
      "text/plain": [
       "['Itinderareworldwitleaderintellig,wise,selflesslove.',\n",
       " 'avulpakirjainulabdeenabdulkalamoneleader.',\n",
       " 'furthermor,manstrongappealamongmass.',\n",
       " 'moreov,politstaturwaydiscriminatorilinecastreligion.apjabdulkalamcameworld15thoctob1931,timeindiabritishoccup.',\n",
       " 'Heborntamilmuslimfamilitamilnadu.',\n",
       " 'hifatherboatownermotherhousewif.',\n",
       " 'furthermor,kalamfivesiblyoungestlot.',\n",
       " 'Inschool,kalamaveragstudentstillhardworkbright.',\n",
       " 'Ithinkcertainligreatmotivaveragstudent.',\n",
       " 'beaverag,mustnevereverunderestimcontinuhardwork.inyear1960,apjabdulkalam’graduattookplacemadrainstituttechnolog.',\n",
       " 'theassocikalamtookplacedefencresearch&developservic(drd).',\n",
       " 'furthermor,joinscientistaeronautdevelopestablishdefencresearchdeveloporganis.',\n",
       " 'thesebeginachievprestigicareerscientist.',\n",
       " 'bigachievkalamcameprojectdirectorisroindia‘first-evsatellitlaunchvehicl(slv-iii).',\n",
       " 'thisatellitresponsdeployrohinisatellit1980.',\n",
       " 'moreov,kalamhighliinfluentideveloppolarsatellitlaunchvehicl(pslv)slvproject.',\n",
       " 'bothprojectsuccess.',\n",
       " 'bringenhancreputkalam.',\n",
       " 'furthermor,developballistmissilpossibleffortman.',\n",
       " 'mostnoteworthi,kalamearnesteemtitl“themissilmanindia”.',\n",
       " 'thegovernindiabecamawarbrilliancmanmadechiefexecutintegrguidmissildevelopprogram(igmdp).',\n",
       " 'furthermor,programresponsresearchdevelopmissil.',\n",
       " 'theachievdistinguishman’stop.',\n",
       " 'moresuccesscomeformagniprithvimissil.',\n",
       " 'onc,kalaminfluentidevelopmissil.',\n",
       " 'Ittenurigmdpkalamplayinstrumentroledevelopmissillikeagniprithvi.',\n",
       " 'moreov,kamalkeyfigurpokhranIInucleartest.']"
      ]
     },
     "execution_count": 17,
     "metadata": {},
     "output_type": "execute_result"
    }
   ],
   "source": [
    "##due to stemming the meaning of the sentence has changed completely"
   ]
  },
  {
   "cell_type": "code",
   "execution_count": null,
   "metadata": {},
   "outputs": [],
   "source": [
    "#Lemmeatization"
   ]
  },
  {
   "cell_type": "code",
   "execution_count": 33,
   "metadata": {},
   "outputs": [],
   "source": [
    "import re\n",
    "from nltk.stem import WordNetLemmatizer\n",
    "wordnet=WordNetLemmatizer()\n",
    "sentences=nltk.sent_tokenize(para)\n",
    "corpus=[]\n",
    "for i in range(len(sentences)):\n",
    "    words=re.sub('[^a-zA-Z]', ' ',sentences[i])\n",
    "    words=words.lower()\n",
    "    words=words.split()\n",
    "    words = [wordnet.lemmatize(word) for word in words if word not in set(stopwords.words('english'))]\n",
    "    sentences[i]=' '.join(words)"
   ]
  },
  {
   "cell_type": "code",
   "execution_count": 35,
   "metadata": {},
   "outputs": [
    {
     "data": {
      "text/plain": [
       "['indeed rare world witness leader intelligent wise selfless loved',\n",
       " 'avul pakir jainulabdeen abdul kalam one leader',\n",
       " 'furthermore man strong appeal among mass',\n",
       " 'moreover political stature way discriminatory line caste religion apj abdul kalam came world th october time india british occupation',\n",
       " 'born tamil muslim family tamil nadu',\n",
       " 'father boat owner mother housewife',\n",
       " 'furthermore kalam five sibling youngest lot',\n",
       " 'school kalam average student still hardworking bright',\n",
       " 'think certainly great motivation average student',\n",
       " 'average must never ever underestimate continue hard work year apj abdul kalam graduation took place madras institute technology',\n",
       " 'association kalam took place defence research development service drds',\n",
       " 'furthermore joined scientist aeronautical development establishment defence research development organisation',\n",
       " 'beginning achievement prestigious career scientist',\n",
       " 'big achievement kalam came project director isro india first ever satellite launch vehicle slv iii',\n",
       " 'satellite responsible deployment rohini satellite',\n",
       " 'moreover kalam highly influential development polar satellite launch vehicle pslv slv project project successful',\n",
       " 'bringing enhancement reputation kalam',\n",
       " 'furthermore development ballistic missile possible effort man',\n",
       " 'noteworthy kalam earned esteemed title missile man india government india became aware brilliance man made chief executive integrated guided missile development program igmdp',\n",
       " 'furthermore program responsible research development missile',\n",
       " 'achievement distinguished man stop',\n",
       " 'success come form agni prithvi missile',\n",
       " 'kalam influential development missile',\n",
       " 'tenure igmdp kalam played instrumental role development missile like agni prithvi',\n",
       " 'moreover kamal key figure pokhran ii nuclear test']"
      ]
     },
     "execution_count": 35,
     "metadata": {},
     "output_type": "execute_result"
    }
   ],
   "source": [
    "sentences"
   ]
  },
  {
   "cell_type": "code",
   "execution_count": null,
   "metadata": {},
   "outputs": [],
   "source": [
    "#Bag of words model"
   ]
  },
  {
   "cell_type": "code",
   "execution_count": 39,
   "metadata": {},
   "outputs": [],
   "source": [
    "from sklearn.feature_extraction.text import CountVectorizer\n",
    "cv=CountVectorizer()\n",
    "x=cv.fit_transform(sentences).toarray()"
   ]
  },
  {
   "cell_type": "code",
   "execution_count": 40,
   "metadata": {},
   "outputs": [
    {
     "data": {
      "text/plain": [
       "numpy.ndarray"
      ]
     },
     "execution_count": 40,
     "metadata": {},
     "output_type": "execute_result"
    }
   ],
   "source": [
    "type(x)"
   ]
  },
  {
   "cell_type": "code",
   "execution_count": 41,
   "metadata": {},
   "outputs": [
    {
     "data": {
      "text/plain": [
       "array([[0, 0, 0, ..., 1, 0, 0],\n",
       "       [1, 0, 0, ..., 0, 0, 0],\n",
       "       [0, 0, 0, ..., 0, 0, 0],\n",
       "       ...,\n",
       "       [0, 0, 0, ..., 0, 0, 0],\n",
       "       [0, 0, 0, ..., 0, 0, 0],\n",
       "       [0, 0, 0, ..., 0, 0, 0]], dtype=int64)"
      ]
     },
     "execution_count": 41,
     "metadata": {},
     "output_type": "execute_result"
    }
   ],
   "source": [
    "#TF IDF vector"
   ]
  },
  {
   "cell_type": "code",
   "execution_count": 44,
   "metadata": {},
   "outputs": [],
   "source": [
    "from sklearn.feature_extraction.text import TfidfVectorizer\n",
    "tf=TfidfVectorizer()\n",
    "x_tf=tf.fit_transform(sentences).toarray()"
   ]
  },
  {
   "cell_type": "code",
   "execution_count": 45,
   "metadata": {},
   "outputs": [
    {
     "data": {
      "text/plain": [
       "array([[0.        , 0.        , 0.        , ..., 0.30272547, 0.        ,\n",
       "        0.        ],\n",
       "       [0.33860556, 0.        , 0.        , ..., 0.        , 0.        ,\n",
       "        0.        ],\n",
       "       [0.        , 0.        , 0.        , ..., 0.        , 0.        ,\n",
       "        0.        ],\n",
       "       ...,\n",
       "       [0.        , 0.        , 0.        , ..., 0.        , 0.        ,\n",
       "        0.        ],\n",
       "       [0.        , 0.        , 0.        , ..., 0.        , 0.        ,\n",
       "        0.        ],\n",
       "       [0.        , 0.        , 0.        , ..., 0.        , 0.        ,\n",
       "        0.        ]])"
      ]
     },
     "execution_count": 45,
     "metadata": {},
     "output_type": "execute_result"
    }
   ],
   "source": [
    "x_tf"
   ]
  },
  {
   "cell_type": "code",
   "execution_count": null,
   "metadata": {},
   "outputs": [],
   "source": []
  }
 ],
 "metadata": {
  "kernelspec": {
   "display_name": "Python 3",
   "language": "python",
   "name": "python3"
  },
  "language_info": {
   "codemirror_mode": {
    "name": "ipython",
    "version": 3
   },
   "file_extension": ".py",
   "mimetype": "text/x-python",
   "name": "python",
   "nbconvert_exporter": "python",
   "pygments_lexer": "ipython3",
   "version": "3.7.4"
  }
 },
 "nbformat": 4,
 "nbformat_minor": 2
}
